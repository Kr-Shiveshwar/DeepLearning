{
 "cells": [
  {
   "cell_type": "code",
   "execution_count": 1,
   "metadata": {
    "collapsed": true
   },
   "outputs": [],
   "source": [
    "import numpy as np\n",
    "import pandas as pd"
   ]
  },
  {
   "cell_type": "code",
   "execution_count": 2,
   "metadata": {
    "collapsed": true
   },
   "outputs": [],
   "source": [
    "dataset = pd.read_csv('Churn_Modelling.csv')\n",
    "X = dataset.iloc[:, 3:13].values\n",
    "y = dataset.iloc[:, 13].values"
   ]
  },
  {
   "cell_type": "code",
   "execution_count": 3,
   "metadata": {
    "collapsed": true
   },
   "outputs": [],
   "source": [
    "# Encoding categorical data\n",
    "from sklearn.preprocessing import LabelEncoder, OneHotEncoder\n",
    "labelencoder_X_1 = LabelEncoder()\n",
    "X[:, 1] = labelencoder_X_1.fit_transform(X[:, 1])\n",
    "labelencoder_X_2 = LabelEncoder()\n",
    "X[:, 2] = labelencoder_X_2.fit_transform(X[:, 2])\n",
    "onehotencoder = OneHotEncoder(categorical_features = [1])\n",
    "X = onehotencoder.fit_transform(X).toarray()\n",
    "X = X[:, 1:]"
   ]
  },
  {
   "cell_type": "code",
   "execution_count": 4,
   "metadata": {
    "collapsed": true
   },
   "outputs": [],
   "source": [
    "# Splitting the dataset into the Training set and Test set\n",
    "from sklearn.model_selection import train_test_split\n",
    "X_train, X_test, y_train, y_test = train_test_split(X, y, test_size = 0.2, random_state = 0)"
   ]
  },
  {
   "cell_type": "code",
   "execution_count": 5,
   "metadata": {
    "collapsed": true
   },
   "outputs": [],
   "source": [
    "# Feature Scaling\n",
    "from sklearn.preprocessing import StandardScaler\n",
    "sc = StandardScaler()\n",
    "X_train = sc.fit_transform(X_train)\n",
    "X_test = sc.transform(X_test)"
   ]
  },
  {
   "cell_type": "code",
   "execution_count": 6,
   "metadata": {},
   "outputs": [
    {
     "name": "stderr",
     "output_type": "stream",
     "text": [
      "Using TensorFlow backend.\n"
     ]
    }
   ],
   "source": [
    "# Importing the Keras libraries and packages\n",
    "import keras\n",
    "# used for intiating the neural network\n",
    "from keras.models import Sequential\n",
    "# used for building layer of the neural network\n",
    "from keras.layers import Dense"
   ]
  },
  {
   "cell_type": "code",
   "execution_count": 7,
   "metadata": {
    "collapsed": true
   },
   "outputs": [],
   "source": [
    "# Initialising the ANN\n",
    "classifier = Sequential()"
   ]
  },
  {
   "cell_type": "code",
   "execution_count": 8,
   "metadata": {
    "collapsed": true
   },
   "outputs": [],
   "source": [
    "# Adding the input layer and the first hidden layer\n",
    "classifier.add(Dense(units = 6, kernel_initializer = 'uniform', activation = 'relu', input_dim = 11))"
   ]
  },
  {
   "cell_type": "code",
   "execution_count": 9,
   "metadata": {
    "collapsed": true
   },
   "outputs": [],
   "source": [
    "# Adding the second hidden layer\n",
    "classifier.add(Dense(units = 6, kernel_initializer = 'uniform', activation = 'relu'))"
   ]
  },
  {
   "cell_type": "code",
   "execution_count": 10,
   "metadata": {
    "collapsed": true
   },
   "outputs": [],
   "source": [
    "# Adding the output layer\n",
    "classifier.add(Dense(units = 1, kernel_initializer = 'uniform', activation = 'sigmoid'))"
   ]
  },
  {
   "cell_type": "code",
   "execution_count": 11,
   "metadata": {
    "collapsed": true
   },
   "outputs": [],
   "source": [
    "# Compiling the ANN\n",
    "classifier.compile(optimizer = 'adam', loss = 'binary_crossentropy', metrics = ['accuracy'])"
   ]
  },
  {
   "cell_type": "code",
   "execution_count": 12,
   "metadata": {},
   "outputs": [
    {
     "name": "stdout",
     "output_type": "stream",
     "text": [
      "Epoch 1/100\n",
      "8000/8000 [==============================] - 2s 297us/step - loss: 0.4882 - acc: 0.7947\n",
      "Epoch 2/100\n",
      "8000/8000 [==============================] - 1s 170us/step - loss: 0.4265 - acc: 0.7960\n",
      "Epoch 3/100\n",
      "8000/8000 [==============================] - 2s 193us/step - loss: 0.4194 - acc: 0.8155\n",
      "Epoch 4/100\n",
      "8000/8000 [==============================] - 1s 186us/step - loss: 0.4135 - acc: 0.8291\n",
      "Epoch 5/100\n",
      "8000/8000 [==============================] - 2s 192us/step - loss: 0.4099 - acc: 0.8317\n",
      "Epoch 6/100\n",
      "8000/8000 [==============================] - 1s 185us/step - loss: 0.4065 - acc: 0.8334\n",
      "Epoch 7/100\n",
      "8000/8000 [==============================] - 1s 172us/step - loss: 0.4042 - acc: 0.8361\n",
      "Epoch 8/100\n",
      "8000/8000 [==============================] - 1s 164us/step - loss: 0.4027 - acc: 0.8347\n",
      "Epoch 9/100\n",
      "8000/8000 [==============================] - 1s 161us/step - loss: 0.4012 - acc: 0.8352\n",
      "Epoch 10/100\n",
      "8000/8000 [==============================] - 1s 178us/step - loss: 0.4007 - acc: 0.8349\n",
      "Epoch 11/100\n",
      "8000/8000 [==============================] - 2s 208us/step - loss: 0.3995 - acc: 0.8352\n",
      "Epoch 12/100\n",
      "8000/8000 [==============================] - 1s 168us/step - loss: 0.3991 - acc: 0.8341\n",
      "Epoch 13/100\n",
      "8000/8000 [==============================] - 1s 182us/step - loss: 0.3987 - acc: 0.8351\n",
      "Epoch 14/100\n",
      "8000/8000 [==============================] - 2s 233us/step - loss: 0.3980 - acc: 0.8347\n",
      "Epoch 15/100\n",
      "8000/8000 [==============================] - 1s 178us/step - loss: 0.3973 - acc: 0.8354\n",
      "Epoch 16/100\n",
      "8000/8000 [==============================] - 1s 172us/step - loss: 0.3968 - acc: 0.8357\n",
      "Epoch 17/100\n",
      "8000/8000 [==============================] - 1s 179us/step - loss: 0.3969 - acc: 0.8350\n",
      "Epoch 18/100\n",
      "8000/8000 [==============================] - 2s 205us/step - loss: 0.3960 - acc: 0.8325\n",
      "Epoch 19/100\n",
      "8000/8000 [==============================] - 1s 172us/step - loss: 0.3960 - acc: 0.8367\n",
      "Epoch 20/100\n",
      "8000/8000 [==============================] - 1s 185us/step - loss: 0.3955 - acc: 0.8335\n",
      "Epoch 21/100\n",
      "8000/8000 [==============================] - 1s 160us/step - loss: 0.3957 - acc: 0.8331\n",
      "Epoch 22/100\n",
      "8000/8000 [==============================] - 2s 209us/step - loss: 0.3955 - acc: 0.8367\n",
      "Epoch 23/100\n",
      "8000/8000 [==============================] - 1s 174us/step - loss: 0.3950 - acc: 0.8350\n",
      "Epoch 24/100\n",
      "8000/8000 [==============================] - 1s 168us/step - loss: 0.3948 - acc: 0.8356\n",
      "Epoch 25/100\n",
      "8000/8000 [==============================] - 1s 173us/step - loss: 0.3945 - acc: 0.8365\n",
      "Epoch 26/100\n",
      "8000/8000 [==============================] - 2s 198us/step - loss: 0.3938 - acc: 0.8372\n",
      "Epoch 27/100\n",
      "8000/8000 [==============================] - 1s 170us/step - loss: 0.3935 - acc: 0.8366\n",
      "Epoch 28/100\n",
      "8000/8000 [==============================] - 1s 174us/step - loss: 0.3926 - acc: 0.8365\n",
      "Epoch 29/100\n",
      "8000/8000 [==============================] - 1s 185us/step - loss: 0.3914 - acc: 0.8364\n",
      "Epoch 30/100\n",
      "8000/8000 [==============================] - 2s 189us/step - loss: 0.3893 - acc: 0.8375\n",
      "Epoch 31/100\n",
      "8000/8000 [==============================] - 1s 173us/step - loss: 0.3874 - acc: 0.8366\n",
      "Epoch 32/100\n",
      "8000/8000 [==============================] - 1s 175us/step - loss: 0.3843 - acc: 0.8387\n",
      "Epoch 33/100\n",
      "8000/8000 [==============================] - 2s 221us/step - loss: 0.3808 - acc: 0.8390\n",
      "Epoch 34/100\n",
      "8000/8000 [==============================] - 1s 172us/step - loss: 0.3773 - acc: 0.8366\n",
      "Epoch 35/100\n",
      "8000/8000 [==============================] - 1s 180us/step - loss: 0.3747 - acc: 0.8372\n",
      "Epoch 36/100\n",
      "8000/8000 [==============================] - 1s 168us/step - loss: 0.3708 - acc: 0.8419\n",
      "Epoch 37/100\n",
      "8000/8000 [==============================] - 2s 203us/step - loss: 0.3661 - acc: 0.8431\n",
      "Epoch 38/100\n",
      "8000/8000 [==============================] - 1s 181us/step - loss: 0.3632 - acc: 0.8494\n",
      "Epoch 39/100\n",
      "8000/8000 [==============================] - 1s 169us/step - loss: 0.3598 - acc: 0.8505\n",
      "Epoch 40/100\n",
      "8000/8000 [==============================] - 1s 170us/step - loss: 0.3581 - acc: 0.8541\n",
      "Epoch 41/100\n",
      "8000/8000 [==============================] - 2s 206us/step - loss: 0.3565 - acc: 0.8539\n",
      "Epoch 42/100\n",
      "8000/8000 [==============================] - 1s 172us/step - loss: 0.3548 - acc: 0.8575\n",
      "Epoch 43/100\n",
      "8000/8000 [==============================] - 1s 173us/step - loss: 0.3538 - acc: 0.8582\n",
      "Epoch 44/100\n",
      "8000/8000 [==============================] - 1s 165us/step - loss: 0.3521 - acc: 0.8599\n",
      "Epoch 45/100\n",
      "8000/8000 [==============================] - 2s 197us/step - loss: 0.3528 - acc: 0.8602\n",
      "Epoch 46/100\n",
      "8000/8000 [==============================] - 1s 168us/step - loss: 0.3509 - acc: 0.8611\n",
      "Epoch 47/100\n",
      "8000/8000 [==============================] - 1s 163us/step - loss: 0.3503 - acc: 0.8581\n",
      "Epoch 48/100\n",
      "8000/8000 [==============================] - 1s 171us/step - loss: 0.3510 - acc: 0.8590\n",
      "Epoch 49/100\n",
      "8000/8000 [==============================] - 2s 210us/step - loss: 0.3492 - acc: 0.8610\n",
      "Epoch 50/100\n",
      "8000/8000 [==============================] - 1s 175us/step - loss: 0.3497 - acc: 0.8591\n",
      "Epoch 51/100\n",
      "8000/8000 [==============================] - 1s 185us/step - loss: 0.3487 - acc: 0.8595\n",
      "Epoch 52/100\n",
      "8000/8000 [==============================] - 2s 203us/step - loss: 0.3480 - acc: 0.8596\n",
      "Epoch 53/100\n",
      "8000/8000 [==============================] - 2s 190us/step - loss: 0.3483 - acc: 0.8614\n",
      "Epoch 54/100\n",
      "8000/8000 [==============================] - 2s 193us/step - loss: 0.3481 - acc: 0.8615\n",
      "Epoch 55/100\n",
      "8000/8000 [==============================] - 1s 184us/step - loss: 0.3479 - acc: 0.8601\n",
      "Epoch 56/100\n",
      "8000/8000 [==============================] - 2s 201us/step - loss: 0.3459 - acc: 0.8612\n",
      "Epoch 57/100\n",
      "8000/8000 [==============================] - 1s 187us/step - loss: 0.3457 - acc: 0.8586\n",
      "Epoch 58/100\n",
      "8000/8000 [==============================] - 1s 182us/step - loss: 0.3459 - acc: 0.8599\n",
      "Epoch 59/100\n",
      "8000/8000 [==============================] - 1s 182us/step - loss: 0.3460 - acc: 0.8612\n",
      "Epoch 60/100\n",
      "8000/8000 [==============================] - 2s 206us/step - loss: 0.3459 - acc: 0.8597\n",
      "Epoch 61/100\n",
      "8000/8000 [==============================] - 1s 177us/step - loss: 0.3453 - acc: 0.8615\n",
      "Epoch 62/100\n",
      "8000/8000 [==============================] - 1s 177us/step - loss: 0.3459 - acc: 0.8576\n",
      "Epoch 63/100\n",
      "8000/8000 [==============================] - 2s 204us/step - loss: 0.3443 - acc: 0.8597\n",
      "Epoch 64/100\n",
      "8000/8000 [==============================] - 1s 184us/step - loss: 0.3450 - acc: 0.8606\n",
      "Epoch 65/100\n",
      "8000/8000 [==============================] - 1s 172us/step - loss: 0.3450 - acc: 0.8601\n",
      "Epoch 66/100\n",
      "8000/8000 [==============================] - 1s 177us/step - loss: 0.3438 - acc: 0.8604\n",
      "Epoch 67/100\n",
      "8000/8000 [==============================] - 2s 208us/step - loss: 0.3439 - acc: 0.8612\n",
      "Epoch 68/100\n",
      "8000/8000 [==============================] - 1s 185us/step - loss: 0.3442 - acc: 0.8601\n",
      "Epoch 69/100\n",
      "8000/8000 [==============================] - 1s 180us/step - loss: 0.3436 - acc: 0.8599\n",
      "Epoch 70/100\n",
      "8000/8000 [==============================] - 1s 181us/step - loss: 0.3437 - acc: 0.8607\n",
      "Epoch 71/100\n",
      "8000/8000 [==============================] - 2s 232us/step - loss: 0.3430 - acc: 0.8606\n",
      "Epoch 72/100\n",
      "8000/8000 [==============================] - 2s 213us/step - loss: 0.3430 - acc: 0.8619\n",
      "Epoch 73/100\n",
      "8000/8000 [==============================] - 2s 206us/step - loss: 0.3439 - acc: 0.8597\n",
      "Epoch 74/100\n",
      "8000/8000 [==============================] - 2s 224us/step - loss: 0.3431 - acc: 0.8605\n",
      "Epoch 75/100\n",
      "8000/8000 [==============================] - 2s 201us/step - loss: 0.3433 - acc: 0.8611\n",
      "Epoch 76/100\n",
      "8000/8000 [==============================] - 2s 214us/step - loss: 0.3423 - acc: 0.8606\n",
      "Epoch 77/100\n",
      "8000/8000 [==============================] - 2s 224us/step - loss: 0.3423 - acc: 0.8617\n",
      "Epoch 78/100\n",
      "8000/8000 [==============================] - 2s 205us/step - loss: 0.3422 - acc: 0.8641\n",
      "Epoch 79/100\n",
      "8000/8000 [==============================] - 2s 213us/step - loss: 0.3426 - acc: 0.8612\n",
      "Epoch 80/100\n",
      "8000/8000 [==============================] - 2s 218us/step - loss: 0.3431 - acc: 0.8626\n",
      "Epoch 81/100\n",
      "8000/8000 [==============================] - 2s 207us/step - loss: 0.3427 - acc: 0.8620\n",
      "Epoch 82/100\n"
     ]
    },
    {
     "name": "stdout",
     "output_type": "stream",
     "text": [
      "8000/8000 [==============================] - 1s 167us/step - loss: 0.3423 - acc: 0.8624\n",
      "Epoch 83/100\n",
      "8000/8000 [==============================] - 2s 213us/step - loss: 0.3412 - acc: 0.8627\n",
      "Epoch 84/100\n",
      "8000/8000 [==============================] - 2s 199us/step - loss: 0.3425 - acc: 0.8627\n",
      "Epoch 85/100\n",
      "8000/8000 [==============================] - 1s 172us/step - loss: 0.3418 - acc: 0.8611\n",
      "Epoch 86/100\n",
      "8000/8000 [==============================] - 1s 173us/step - loss: 0.3420 - acc: 0.8610\n",
      "Epoch 87/100\n",
      "8000/8000 [==============================] - 1s 172us/step - loss: 0.3411 - acc: 0.8626\n",
      "Epoch 88/100\n",
      "8000/8000 [==============================] - 2s 209us/step - loss: 0.3413 - acc: 0.8599\n",
      "Epoch 89/100\n",
      "8000/8000 [==============================] - 1s 168us/step - loss: 0.3416 - acc: 0.8615\n",
      "Epoch 90/100\n",
      "8000/8000 [==============================] - 1s 166us/step - loss: 0.3406 - acc: 0.8594\n",
      "Epoch 91/100\n",
      "8000/8000 [==============================] - 1s 178us/step - loss: 0.3424 - acc: 0.8591\n",
      "Epoch 92/100\n",
      "8000/8000 [==============================] - 2s 195us/step - loss: 0.3407 - acc: 0.8627\n",
      "Epoch 93/100\n",
      "8000/8000 [==============================] - 1s 172us/step - loss: 0.3416 - acc: 0.8626\n",
      "Epoch 94/100\n",
      "8000/8000 [==============================] - 1s 169us/step - loss: 0.3410 - acc: 0.8614\n",
      "Epoch 95/100\n",
      "8000/8000 [==============================] - 2s 192us/step - loss: 0.3408 - acc: 0.8601\n",
      "Epoch 96/100\n",
      "8000/8000 [==============================] - 1s 172us/step - loss: 0.3411 - acc: 0.8614\n",
      "Epoch 97/100\n",
      "8000/8000 [==============================] - 1s 172us/step - loss: 0.3416 - acc: 0.8620\n",
      "Epoch 98/100\n",
      "8000/8000 [==============================] - 2s 194us/step - loss: 0.3410 - acc: 0.8586\n",
      "Epoch 99/100\n",
      "8000/8000 [==============================] - 2s 265us/step - loss: 0.3408 - acc: 0.8626\n",
      "Epoch 100/100\n",
      "8000/8000 [==============================] - 2s 197us/step - loss: 0.3412 - acc: 0.8617\n"
     ]
    },
    {
     "data": {
      "text/plain": [
       "<keras.callbacks.History at 0x261d72a89e8>"
      ]
     },
     "execution_count": 12,
     "metadata": {},
     "output_type": "execute_result"
    }
   ],
   "source": [
    "# Fitting the ANN to the Training set\n",
    "classifier.fit(X_train, y_train, batch_size = 10, epochs = 100)"
   ]
  },
  {
   "cell_type": "code",
   "execution_count": 13,
   "metadata": {
    "collapsed": true
   },
   "outputs": [],
   "source": [
    "# Predicting the Test set results\n",
    "y_pred = classifier.predict(X_test)\n",
    "y_pred = (y_pred > 0.5)"
   ]
  },
  {
   "cell_type": "code",
   "execution_count": 14,
   "metadata": {
    "collapsed": true
   },
   "outputs": [],
   "source": [
    "from sklearn.metrics import confusion_matrix\n",
    "cm = confusion_matrix(y_test, y_pred)"
   ]
  },
  {
   "cell_type": "code",
   "execution_count": 15,
   "metadata": {},
   "outputs": [
    {
     "data": {
      "text/plain": [
       "array([[1479,  116],\n",
       "       [ 165,  240]], dtype=int64)"
      ]
     },
     "execution_count": 15,
     "metadata": {},
     "output_type": "execute_result"
    }
   ],
   "source": [
    "cm"
   ]
  },
  {
   "cell_type": "code",
   "execution_count": 20,
   "metadata": {},
   "outputs": [
    {
     "name": "stdout",
     "output_type": "stream",
     "text": [
      "Accuracy:0.8595\n"
     ]
    }
   ],
   "source": [
    "print(\"Accuracy:{acc}\".format(acc=(1479+240)/2000))"
   ]
  }
 ],
 "metadata": {
  "kernelspec": {
   "display_name": "Python 3",
   "language": "python",
   "name": "python3"
  },
  "language_info": {
   "codemirror_mode": {
    "name": "ipython",
    "version": 3
   },
   "file_extension": ".py",
   "mimetype": "text/x-python",
   "name": "python",
   "nbconvert_exporter": "python",
   "pygments_lexer": "ipython3",
   "version": "3.6.3"
  }
 },
 "nbformat": 4,
 "nbformat_minor": 2
}
